{
 "cells": [
  {
   "cell_type": "code",
   "execution_count": 1,
   "id": "d22868ff",
   "metadata": {},
   "outputs": [
    {
     "name": "stderr",
     "output_type": "stream",
     "text": [
      "2023-10-16 13:57:01.627652: I tensorflow/tsl/cuda/cudart_stub.cc:28] Could not find cuda drivers on your machine, GPU will not be used.\n",
      "2023-10-16 13:57:01.780722: I tensorflow/tsl/cuda/cudart_stub.cc:28] Could not find cuda drivers on your machine, GPU will not be used.\n",
      "2023-10-16 13:57:01.781465: I tensorflow/core/platform/cpu_feature_guard.cc:182] This TensorFlow binary is optimized to use available CPU instructions in performance-critical operations.\n",
      "To enable the following instructions: AVX2 FMA, in other operations, rebuild TensorFlow with the appropriate compiler flags.\n",
      "2023-10-16 13:57:05.918977: W tensorflow/compiler/tf2tensorrt/utils/py_utils.cc:38] TF-TRT Warning: Could not find TensorRT\n"
     ]
    }
   ],
   "source": [
    "# Stacking Layers with .add()\n",
    "from keras.layers import Dense\n",
    "# Sequential model\n",
    "from keras.models import Sequential\n",
    "from keras.losses import categorical_crossentropy\n",
    "from keras.optimizers import SGD\n",
    "import tensorflow as tf\n",
    "from keras import layers"
   ]
  },
  {
   "cell_type": "code",
   "execution_count": 2,
   "id": "a5572950",
   "metadata": {},
   "outputs": [
    {
     "name": "stdout",
     "output_type": "stream",
     "text": [
      "  % Total    % Received % Xferd  Average Speed   Time    Time     Time  Current\n",
      "                                 Dload  Upload   Total   Spent    Left  Speed\n",
      "100  786M  100  786M    0     0  10.6M      0  0:01:13  0:01:13 --:--:-- 15.4M\n"
     ]
    }
   ],
   "source": [
    "!curl -O https://download.microsoft.com/download/3/E/1/3E1C3F21-ECDB-4869-8368-6DEBA77B919F/kagglecatsanddogs_5340.zip"
   ]
  },
  {
   "cell_type": "code",
   "execution_count": 3,
   "id": "795a5416",
   "metadata": {},
   "outputs": [
    {
     "name": "stdout",
     "output_type": "stream",
     "text": [
      "replace PetImages/Cat/0.jpg? [y]es, [n]o, [A]ll, [N]one, [r]ename: "
     ]
    }
   ],
   "source": [
    "!unzip -q kagglecatsanddogs_5340.zip\n",
    "!ls"
   ]
  },
  {
   "cell_type": "code",
   "execution_count": null,
   "id": "f866914c",
   "metadata": {},
   "outputs": [],
   "source": [
    "!ls PetImages"
   ]
  },
  {
   "cell_type": "code",
   "execution_count": null,
   "id": "25e36c22",
   "metadata": {},
   "outputs": [],
   "source": [
    "## Filter out corrupted images\n",
    "import os\n",
    "\n",
    "num_skipped = 0\n",
    "for folder_name in ('Cat', 'Dog'):\n",
    "    folder_path = os.path.join('PetImages', folder_name)\n",
    "    for fname in os.listdir(folder_path):\n",
    "        fpath = os.path.join(folder_path, fname)\n",
    "        try:\n",
    "            fobj = open(fpath, 'rb')\n",
    "            is_jfif = tf.compat.as_bytes('JFIF') in fobj.peek(10)\n",
    "        finally:\n",
    "            fobj.close()\n",
    "            \n",
    "        if not is_jfif:\n",
    "            num_skipped += 1\n",
    "            # Now delete corrupted image\n",
    "            os.remove(fpath)\n",
    "            \n",
    "print(\"Deleted %d images:\"% num_skipped)"
   ]
  },
  {
   "cell_type": "code",
   "execution_count": null,
   "id": "f5ac5deb",
   "metadata": {},
   "outputs": [],
   "source": [
    "### generate the Dataset\n",
    "\n",
    "image_size = (200, 200)\n",
    "batch_size = 128\n",
    "\n",
    "train_dataset, val_dataset = tf.keras.utils.image_dataset_from_directory(\n",
    "\"PetImages\", validation_split = 0.2, subset = 'both', seed = 12,\n",
    "image_size = image_size, batch_size = batch_size)"
   ]
  },
  {
   "cell_type": "code",
   "execution_count": null,
   "id": "dd69b70a",
   "metadata": {},
   "outputs": [],
   "source": [
    "# Now Visualize the images\n",
    "import matplotlib.pyplot as plt\n",
    "plt.figure(figsize = (10, 5))\n",
    "for img, label in train_dataset.take(1):\n",
    "    for i in range(8):\n",
    "        ax = plt.subplot(2,4,i+1)\n",
    "        plt.imshow(img[i].numpy().astype('uint8'))\n",
    "        plt.title(int(label[i]))\n",
    "        plt.axis('off')\n"
   ]
  },
  {
   "cell_type": "code",
   "execution_count": null,
   "id": "610e743b",
   "metadata": {},
   "outputs": [],
   "source": [
    "data_augmentation = Sequential([layers.RandomFlip('horizontal'), \n",
    "            layers.RandomRotation(0.1)])\n",
    "print(data_augmentation)"
   ]
  },
  {
   "cell_type": "code",
   "execution_count": null,
   "id": "d9f5d91f",
   "metadata": {},
   "outputs": [],
   "source": [
    "plt.figure(figsize = (10, 5))\n",
    "for img, _ in train_dataset.take(1):\n",
    "    for i in range(8):\n",
    "        augmented_img = data_augmentation(img)\n",
    "        ax = plt.subplot(2,4, i+1)\n",
    "        plt.imshow(augmented_img[0].numpy().astype('uint8'))\n",
    "        plt.axis('off')"
   ]
  },
  {
   "cell_type": "code",
   "execution_count": null,
   "id": "137c3cb4",
   "metadata": {},
   "outputs": [],
   "source": [
    "model = Sequential()\n",
    "model.add(Dense(units = 64, activation = 'relu'))\n",
    "model.add(Dense(units = 10, activation = 'softmax'))"
   ]
  },
  {
   "cell_type": "code",
   "execution_count": null,
   "id": "85a8f6ae",
   "metadata": {},
   "outputs": [],
   "source": [
    "#Once the model looks good than configure the learning process\n",
    "# with .compile()\n",
    "model.compile(loss = \"categorical_crossentropy\",\n",
    "             optimizer = 'sgd',\n",
    "             metrics = ['accuracy'])"
   ]
  },
  {
   "cell_type": "code",
   "execution_count": null,
   "id": "2da25e6e",
   "metadata": {},
   "outputs": [],
   "source": [
    "model.compile(optimizer = SGD(learning_rate = 0.01, momentum = 0.9, \n",
    "                             nesterov = True),\n",
    "             loss = categorical_crossentropy)"
   ]
  },
  {
   "cell_type": "code",
   "execution_count": null,
   "id": "273b3d47",
   "metadata": {},
   "outputs": [],
   "source": [
    "# to prepare an Optimizer\n",
    "optimizer = tf.keras.optimizers.Adam()\n",
    "\n",
    "# Prepare Loss function\n",
    "loss = tf.keras.losses.kl_divergence"
   ]
  },
  {
   "cell_type": "code",
   "execution_count": null,
   "id": "ac310fec",
   "metadata": {},
   "outputs": [],
   "source": [
    "# Iterate over the batches of the dataset\n",
    "for ip,op in train_dataset:\n",
    "    # Open a gradiantTape\n",
    "    with tf.GradiantTape() as tape:\n",
    "        # Forward Pass\n",
    "        predictions = model(ip)\n",
    "        # Compute the loss value for this batch\n",
    "        loss_value = loss(op, predictions)\n",
    "    # Get gradiants of loss with respect to the weights\n",
    "    gardiants = tape.gradiant(loss_value, model.trainable_weights)\n",
    "    \n",
    "    # Now, update the weights of the model\n",
    "    optimizer.apply_gradiants(zip(gradiants, model.trainabel_weights))"
   ]
  },
  {
   "cell_type": "code",
   "execution_count": null,
   "id": "e6662059",
   "metadata": {},
   "outputs": [],
   "source": []
  },
  {
   "cell_type": "code",
   "execution_count": null,
   "id": "00192de9",
   "metadata": {},
   "outputs": [],
   "source": []
  },
  {
   "cell_type": "code",
   "execution_count": null,
   "id": "3adafad6",
   "metadata": {},
   "outputs": [],
   "source": []
  },
  {
   "cell_type": "code",
   "execution_count": null,
   "id": "acc1bac7",
   "metadata": {},
   "outputs": [],
   "source": []
  }
 ],
 "metadata": {
  "kernelspec": {
   "display_name": "Python 3 (ipykernel)",
   "language": "python",
   "name": "python3"
  },
  "language_info": {
   "codemirror_mode": {
    "name": "ipython",
    "version": 3
   },
   "file_extension": ".py",
   "mimetype": "text/x-python",
   "name": "python",
   "nbconvert_exporter": "python",
   "pygments_lexer": "ipython3",
   "version": "3.10.12"
  }
 },
 "nbformat": 4,
 "nbformat_minor": 5
}
